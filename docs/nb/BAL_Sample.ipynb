{
 "cells": [
  {
   "cell_type": "markdown",
   "metadata": {},
   "source": [
    "# Build a Preliminary BAL Sample for Shaw"
   ]
  },
  {
   "cell_type": "code",
   "execution_count": 1,
   "metadata": {},
   "outputs": [
    {
     "name": "stdout",
     "output_type": "stream",
     "text": [
      "read_sets: Using set file -- \n",
      "  /home/xavier/local/Python/linetools/linetools/lists/sets/llist_v1.2.ascii\n",
      "Loading abundances from Asplund2009\n",
      "Abundances are relative by number on a logarithmic scale with H=12\n"
     ]
    },
    {
     "name": "stderr",
     "output_type": "stream",
     "text": [
      "/home/xavier/local/Python/linetools/linetools/lists/linelist.py:402: RuntimeWarning: divide by zero encountered in log10\n",
      "  self._extra_table['log(w*f)'] = np.log10(qm_strength)\n"
     ]
    }
   ],
   "source": [
    "# imports\n",
    "import numpy as np\n",
    "\n",
    "from astropy.coordinates import SkyCoord\n",
    "\n",
    "from specdb.specdb import IgmSpec\n",
    "\n",
    "from dla_cnn.io import load_ml_dr12"
   ]
  },
  {
   "cell_type": "markdown",
   "metadata": {},
   "source": [
    "## Load igmsp"
   ]
  },
  {
   "cell_type": "code",
   "execution_count": 2,
   "metadata": {},
   "outputs": [
    {
     "name": "stdout",
     "output_type": "stream",
     "text": [
      "Loading igmspec from /u/xavier/SPECDB/IGMspec_DB_v02.1.hdf5\n",
      "Database is igmspec\n",
      "Created on 2017-Sep-18\n",
      "Version: v02.1\n"
     ]
    }
   ],
   "source": [
    "igmsp = IgmSpec()"
   ]
  },
  {
   "cell_type": "markdown",
   "metadata": {},
   "source": [
    "## Load DR12"
   ]
  },
  {
   "cell_type": "code",
   "execution_count": 3,
   "metadata": {
    "collapsed": true
   },
   "outputs": [],
   "source": [
    "dr12_slines, _ = load_ml_dr12()"
   ]
  },
  {
   "cell_type": "code",
   "execution_count": 4,
   "metadata": {},
   "outputs": [
    {
     "data": {
      "text/html": [
       "&lt;Table length=5&gt;\n",
       "<table id=\"table140695579593360\" class=\"table-striped table-bordered table-condensed\">\n",
       "<thead><tr><th>Plate</th><th>Fiber</th><th>MJD</th><th>RA</th><th>DEC</th><th>zem</th><th>flg_BAL</th></tr></thead>\n",
       "<thead><tr><th>int64</th><th>int64</th><th>int64</th><th>float64</th><th>float64</th><th>float64</th><th>int64</th></tr></thead>\n",
       "<tr><td>3586</td><td>16</td><td>55181</td><td>9.3398</td><td>-0.3678</td><td>2.23747383356</td><td>0</td></tr>\n",
       "<tr><td>3586</td><td>38</td><td>55181</td><td>9.2152</td><td>-0.1659</td><td>2.19045149923</td><td>1</td></tr>\n",
       "<tr><td>3586</td><td>90</td><td>55181</td><td>8.8235</td><td>-1.0162</td><td>2.15826554021</td><td>0</td></tr>\n",
       "<tr><td>3586</td><td>114</td><td>55181</td><td>8.82</td><td>-0.33</td><td>2.22185597506</td><td>0</td></tr>\n",
       "<tr><td>3586</td><td>158</td><td>55181</td><td>8.4806</td><td>-0.014</td><td>2.66399792728</td><td>1</td></tr>\n",
       "</table>"
      ],
      "text/plain": [
       "<Table length=5>\n",
       "Plate Fiber  MJD     RA     DEC        zem      flg_BAL\n",
       "int64 int64 int64 float64 float64    float64     int64 \n",
       "----- ----- ----- ------- ------- ------------- -------\n",
       " 3586    16 55181  9.3398 -0.3678 2.23747383356       0\n",
       " 3586    38 55181  9.2152 -0.1659 2.19045149923       1\n",
       " 3586    90 55181  8.8235 -1.0162 2.15826554021       0\n",
       " 3586   114 55181    8.82   -0.33 2.22185597506       0\n",
       " 3586   158 55181  8.4806  -0.014 2.66399792728       1"
      ]
     },
     "execution_count": 4,
     "metadata": {},
     "output_type": "execute_result"
    }
   ],
   "source": [
    "dr12_slines[0:5]"
   ]
  },
  {
   "cell_type": "markdown",
   "metadata": {},
   "source": [
    "### coords"
   ]
  },
  {
   "cell_type": "code",
   "execution_count": 5,
   "metadata": {
    "collapsed": true
   },
   "outputs": [],
   "source": [
    "dr12_coord = SkyCoord(ra=dr12_slines['RA'], dec=dr12_slines['DEC'], unit='deg')"
   ]
  },
  {
   "cell_type": "markdown",
   "metadata": {},
   "source": [
    "## $z_{\\rm em}$ cut"
   ]
  },
  {
   "cell_type": "code",
   "execution_count": 6,
   "metadata": {
    "collapsed": true
   },
   "outputs": [],
   "source": [
    "zcut = np.abs(dr12_slines['zem'] - 2.5) < 0.5"
   ]
  },
  {
   "cell_type": "code",
   "execution_count": 7,
   "metadata": {},
   "outputs": [
    {
     "data": {
      "text/plain": [
       "165087"
      ]
     },
     "execution_count": 7,
     "metadata": {},
     "output_type": "execute_result"
    }
   ],
   "source": [
    "np.sum(zcut)"
   ]
  },
  {
   "cell_type": "markdown",
   "metadata": {},
   "source": [
    "## Without BAL"
   ]
  },
  {
   "cell_type": "code",
   "execution_count": 8,
   "metadata": {
    "collapsed": true
   },
   "outputs": [],
   "source": [
    "nobal = dr12_slines['flg_BAL'] == 0"
   ]
  },
  {
   "cell_type": "code",
   "execution_count": 9,
   "metadata": {},
   "outputs": [
    {
     "data": {
      "text/html": [
       "&lt;Table length=5&gt;\n",
       "<table id=\"table140695576924624\" class=\"table-striped table-bordered table-condensed\">\n",
       "<thead><tr><th>Plate</th><th>Fiber</th><th>MJD</th><th>RA</th><th>DEC</th><th>zem</th><th>flg_BAL</th></tr></thead>\n",
       "<thead><tr><th>int64</th><th>int64</th><th>int64</th><th>float64</th><th>float64</th><th>float64</th><th>int64</th></tr></thead>\n",
       "<tr><td>3586</td><td>16</td><td>55181</td><td>9.3398</td><td>-0.3678</td><td>2.23747383356</td><td>0</td></tr>\n",
       "<tr><td>3586</td><td>90</td><td>55181</td><td>8.8235</td><td>-1.0162</td><td>2.15826554021</td><td>0</td></tr>\n",
       "<tr><td>3586</td><td>114</td><td>55181</td><td>8.82</td><td>-0.33</td><td>2.22185597506</td><td>0</td></tr>\n",
       "<tr><td>3586</td><td>188</td><td>55181</td><td>8.3748</td><td>-0.2188</td><td>2.21141635355</td><td>0</td></tr>\n",
       "<tr><td>3586</td><td>228</td><td>55181</td><td>8.132</td><td>-0.4612</td><td>2.14094925525</td><td>0</td></tr>\n",
       "</table>"
      ],
      "text/plain": [
       "<Table length=5>\n",
       "Plate Fiber  MJD     RA     DEC        zem      flg_BAL\n",
       "int64 int64 int64 float64 float64    float64     int64 \n",
       "----- ----- ----- ------- ------- ------------- -------\n",
       " 3586    16 55181  9.3398 -0.3678 2.23747383356       0\n",
       " 3586    90 55181  8.8235 -1.0162 2.15826554021       0\n",
       " 3586   114 55181    8.82   -0.33 2.22185597506       0\n",
       " 3586   188 55181  8.3748 -0.2188 2.21141635355       0\n",
       " 3586   228 55181   8.132 -0.4612 2.14094925525       0"
      ]
     },
     "execution_count": 9,
     "metadata": {},
     "output_type": "execute_result"
    }
   ],
   "source": [
    "dr12_nobal = dr12_slines[zcut & nobal][0:10000]\n",
    "dr12_nobal[0:5]"
   ]
  },
  {
   "cell_type": "code",
   "execution_count": 10,
   "metadata": {},
   "outputs": [
    {
     "data": {
      "text/plain": [
       "10000"
      ]
     },
     "execution_count": 10,
     "metadata": {},
     "output_type": "execute_result"
    }
   ],
   "source": [
    "idx_nobal = np.where(zcut & nobal)[0][0:10000]\n",
    "len(idx_nobal)"
   ]
  },
  {
   "cell_type": "markdown",
   "metadata": {},
   "source": [
    "### Meta"
   ]
  },
  {
   "cell_type": "code",
   "execution_count": 11,
   "metadata": {},
   "outputs": [
    {
     "data": {
      "text/plain": [
       "<SkyCoord (ICRS): (ra, dec) in deg\n",
       "    [(   9.3398,  -0.3678), (   8.8235,  -1.0162), (   8.82  ,  -0.33  ),\n",
       "     ..., ( 235.0636,  17.0328), ( 235.0029,  17.0446),\n",
       "     ( 235.023 ,  17.3596)]>"
      ]
     },
     "execution_count": 11,
     "metadata": {},
     "output_type": "execute_result"
    }
   ],
   "source": [
    "dr12_coord[idx_nobal]"
   ]
  },
  {
   "cell_type": "code",
   "execution_count": 12,
   "metadata": {},
   "outputs": [
    {
     "name": "stdout",
     "output_type": "stream",
     "text": [
      "Your search yielded 10000 matches from 10000 input coordinates\n",
      "Final query yielded 10000 matches.\n"
     ]
    }
   ],
   "source": [
    "matches_nobal, meta_nobal = igmsp.meta_from_coords(dr12_coord[idx_nobal], groups=['BOSS_DR12'])"
   ]
  },
  {
   "cell_type": "code",
   "execution_count": 13,
   "metadata": {
    "collapsed": true
   },
   "outputs": [],
   "source": [
    "assert np.sum(matches_nobal) == 10000"
   ]
  },
  {
   "cell_type": "markdown",
   "metadata": {},
   "source": [
    "### Spectra"
   ]
  },
  {
   "cell_type": "code",
   "execution_count": 14,
   "metadata": {},
   "outputs": [
    {
     "name": "stdout",
     "output_type": "stream",
     "text": [
      "Staged 10000 spectra totalling 0.93 Gb\n",
      "Loaded spectra\n"
     ]
    },
    {
     "name": "stderr",
     "output_type": "stream",
     "text": [
      "/home/xavier/local/Python/linetools/linetools/spectra/xspectrum1d.py:249: UserWarning: No unit given to wavelength, assuming Angstroms.\n",
      "  warnings.warn(\"No unit given to wavelength, assuming Angstroms.\")\n"
     ]
    }
   ],
   "source": [
    "spec_nobal = igmsp.spectra_from_meta(meta_nobal)"
   ]
  },
  {
   "cell_type": "code",
   "execution_count": 36,
   "metadata": {},
   "outputs": [],
   "source": [
    "for key in ['zem_GROUP','PLATE','FIBERID']:\n",
    "    spec_nobal.meta[key] = np.array(meta_nobal[key])"
   ]
  },
  {
   "cell_type": "code",
   "execution_count": 37,
   "metadata": {},
   "outputs": [
    {
     "data": {
      "text/plain": [
       "array([3586, 3586, 3586, ..., 3932, 3932, 3932], dtype=int32)"
      ]
     },
     "execution_count": 37,
     "metadata": {},
     "output_type": "execute_result"
    }
   ],
   "source": [
    "spec_nobal.meta['PLATE']"
   ]
  },
  {
   "cell_type": "markdown",
   "metadata": {},
   "source": [
    "#### Write"
   ]
  },
  {
   "cell_type": "code",
   "execution_count": 38,
   "metadata": {},
   "outputs": [
    {
     "name": "stderr",
     "output_type": "stream",
     "text": [
      "/home/xavier/.pyenv/versions/anaconda3-5.0.1/lib/python3.6/site-packages/numpy/ma/core.py:3008: FutureWarning: Numpy has detected that you (may be) writing to an array returned\n",
      "by numpy.diagonal or by selecting multiple fields in a structured\n",
      "array. This code will likely break in a future numpy release --\n",
      "see numpy.diagonal or arrays.indexing reference docs for details.\n",
      "The quick fix is to make an explicit copy (e.g., do\n",
      "arr.diagonal().copy() or arr[['f0','f1']].copy()).\n",
      "  if (obj.__array_interface__[\"data\"][0]\n",
      "/home/xavier/.pyenv/versions/anaconda3-5.0.1/lib/python3.6/site-packages/numpy/ma/core.py:3009: FutureWarning: Numpy has detected that you (may be) writing to an array returned\n",
      "by numpy.diagonal or by selecting multiple fields in a structured\n",
      "array. This code will likely break in a future numpy release --\n",
      "see numpy.diagonal or arrays.indexing reference docs for details.\n",
      "The quick fix is to make an explicit copy (e.g., do\n",
      "arr.diagonal().copy() or arr[['f0','f1']].copy()).\n",
      "  != self.__array_interface__[\"data\"][0]):\n",
      "WARNING: AstropyDeprecationWarning: \"clobber\" was deprecated in version 2.0 and will be removed in a future version. Use argument \"overwrite\" instead. [linetools.spectra.xspectrum1d]\n"
     ]
    },
    {
     "name": "stdout",
     "output_type": "stream",
     "text": [
      "Wrote spectrum to DR12_noBAL.fits\n"
     ]
    }
   ],
   "source": [
    "spec_nobal.write_to_binary_fits_table('DR12_noBAL.fits')"
   ]
  },
  {
   "cell_type": "markdown",
   "metadata": {},
   "source": [
    "## With BAL"
   ]
  },
  {
   "cell_type": "code",
   "execution_count": 39,
   "metadata": {
    "collapsed": true
   },
   "outputs": [],
   "source": [
    "bal = dr12_slines['flg_BAL'] == 1"
   ]
  },
  {
   "cell_type": "code",
   "execution_count": 40,
   "metadata": {},
   "outputs": [
    {
     "data": {
      "text/plain": [
       "10000"
      ]
     },
     "execution_count": 40,
     "metadata": {},
     "output_type": "execute_result"
    }
   ],
   "source": [
    "idx_bal = np.where(zcut & bal)[0][0:10000]\n",
    "len(idx_bal)"
   ]
  },
  {
   "cell_type": "markdown",
   "metadata": {},
   "source": [
    "### Meta"
   ]
  },
  {
   "cell_type": "code",
   "execution_count": 41,
   "metadata": {},
   "outputs": [
    {
     "name": "stdout",
     "output_type": "stream",
     "text": [
      "Your search yielded 10000 matches from 10000 input coordinates\n",
      "Final query yielded 10000 matches.\n"
     ]
    }
   ],
   "source": [
    "matches_bal, meta_bal = igmsp.meta_from_coords(dr12_coord[idx_bal], groups=['BOSS_DR12'])"
   ]
  },
  {
   "cell_type": "markdown",
   "metadata": {},
   "source": [
    "### Spec"
   ]
  },
  {
   "cell_type": "code",
   "execution_count": 42,
   "metadata": {},
   "outputs": [
    {
     "name": "stdout",
     "output_type": "stream",
     "text": [
      "Staged 10000 spectra totalling 0.93 Gb\n",
      "Loaded spectra\n"
     ]
    },
    {
     "name": "stderr",
     "output_type": "stream",
     "text": [
      "/home/xavier/local/Python/linetools/linetools/spectra/xspectrum1d.py:249: UserWarning: No unit given to wavelength, assuming Angstroms.\n",
      "  warnings.warn(\"No unit given to wavelength, assuming Angstroms.\")\n"
     ]
    }
   ],
   "source": [
    "spec_bal = igmsp.spectra_from_meta(meta_bal)"
   ]
  },
  {
   "cell_type": "code",
   "execution_count": 43,
   "metadata": {
    "collapsed": true
   },
   "outputs": [],
   "source": [
    "for key in ['zem_GROUP','PLATE','FIBERID']:\n",
    "    spec_bal.meta[key] = np.array(meta_bal[key])"
   ]
  },
  {
   "cell_type": "code",
   "execution_count": 44,
   "metadata": {},
   "outputs": [
    {
     "name": "stderr",
     "output_type": "stream",
     "text": [
      "/home/xavier/.pyenv/versions/anaconda3-5.0.1/lib/python3.6/site-packages/numpy/ma/core.py:3008: FutureWarning: Numpy has detected that you (may be) writing to an array returned\n",
      "by numpy.diagonal or by selecting multiple fields in a structured\n",
      "array. This code will likely break in a future numpy release --\n",
      "see numpy.diagonal or arrays.indexing reference docs for details.\n",
      "The quick fix is to make an explicit copy (e.g., do\n",
      "arr.diagonal().copy() or arr[['f0','f1']].copy()).\n",
      "  if (obj.__array_interface__[\"data\"][0]\n",
      "/home/xavier/.pyenv/versions/anaconda3-5.0.1/lib/python3.6/site-packages/numpy/ma/core.py:3009: FutureWarning: Numpy has detected that you (may be) writing to an array returned\n",
      "by numpy.diagonal or by selecting multiple fields in a structured\n",
      "array. This code will likely break in a future numpy release --\n",
      "see numpy.diagonal or arrays.indexing reference docs for details.\n",
      "The quick fix is to make an explicit copy (e.g., do\n",
      "arr.diagonal().copy() or arr[['f0','f1']].copy()).\n",
      "  != self.__array_interface__[\"data\"][0]):\n",
      "WARNING: AstropyDeprecationWarning: \"clobber\" was deprecated in version 2.0 and will be removed in a future version. Use argument \"overwrite\" instead. [linetools.spectra.xspectrum1d]\n"
     ]
    },
    {
     "name": "stdout",
     "output_type": "stream",
     "text": [
      "Wrote spectrum to DR12_BAL.fits\n"
     ]
    }
   ],
   "source": [
    "spec_bal.write_to_binary_fits_table('DR12_BAL.fits')"
   ]
  }
 ],
 "metadata": {
  "kernelspec": {
   "display_name": "Python 3",
   "language": "python",
   "name": "python3"
  },
  "language_info": {
   "codemirror_mode": {
    "name": "ipython",
    "version": 3
   },
   "file_extension": ".py",
   "mimetype": "text/x-python",
   "name": "python",
   "nbconvert_exporter": "python",
   "pygments_lexer": "ipython3",
   "version": "3.6.3"
  }
 },
 "nbformat": 4,
 "nbformat_minor": 2
}
